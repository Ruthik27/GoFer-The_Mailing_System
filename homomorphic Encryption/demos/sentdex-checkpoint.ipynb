{
 "cells": [
  {
   "cell_type": "code",
   "execution_count": 26,
   "metadata": {},
   "outputs": [
    {
     "ename": "SyntaxError",
     "evalue": "invalid syntax (<ipython-input-26-c2a9150c1627>, line 1)",
     "output_type": "error",
     "traceback": [
      "\u001b[0;36m  File \u001b[0;32m\"<ipython-input-26-c2a9150c1627>\"\u001b[0;36m, line \u001b[0;32m1\u001b[0m\n\u001b[0;31m    pip remove crypto\u001b[0m\n\u001b[0m        ^\u001b[0m\n\u001b[0;31mSyntaxError\u001b[0m\u001b[0;31m:\u001b[0m invalid syntax\n"
     ]
    }
   ],
   "source": [
    "pip remove crypto\n",
    "#pip uninstall pycrypto"
   ]
  },
  {
   "cell_type": "code",
   "execution_count": 5,
   "metadata": {},
   "outputs": [
    {
     "name": "stdout",
     "output_type": "stream",
     "text": [
      "Collecting pycrypto\n",
      "  Downloading pycrypto-2.6.1.tar.gz (446 kB)\n",
      "\u001b[K     |████████████████████████████████| 446 kB 5.0 MB/s eta 0:00:01\n",
      "\u001b[?25hBuilding wheels for collected packages: pycrypto\n",
      "  Building wheel for pycrypto (setup.py) ... \u001b[?25ldone\n",
      "\u001b[?25h  Created wheel for pycrypto: filename=pycrypto-2.6.1-cp39-cp39-linux_x86_64.whl size=527640 sha256=85a06f3a0f342d9ed3ece3fb9a6fdedb0636a937281586f97d5a4734384fae03\n",
      "  Stored in directory: /home/perman/.cache/pip/wheels/9d/29/32/8b8f22481bec8b0fbe7087927336ec167faff2ed9db849448f\n",
      "Successfully built pycrypto\n",
      "Installing collected packages: pycrypto\n",
      "Successfully installed pycrypto-2.6.1\n",
      "Note: you may need to restart the kernel to use updated packages.\n"
     ]
    }
   ],
   "source": [
    "pip install pycrypto"
   ]
  },
  {
   "cell_type": "code",
   "execution_count": 21,
   "metadata": {
    "scrolled": true
   },
   "outputs": [
    {
     "name": "stdout",
     "output_type": "stream",
     "text": [
      "Collecting AES\n",
      "  Downloading aes-1.0.0-py3-none-any.whl (1.1 kB)\n",
      "Installing collected packages: AES\n",
      "Successfully installed AES-1.0.0\n",
      "Note: you may need to restart the kernel to use updated packages.\n"
     ]
    }
   ],
   "source": [
    "pip install AES"
   ]
  },
  {
   "cell_type": "code",
   "execution_count": 6,
   "metadata": {},
   "outputs": [],
   "source": [
    "from Crypto.Cipher import AES"
   ]
  },
  {
   "cell_type": "code",
   "execution_count": 15,
   "metadata": {},
   "outputs": [
    {
     "name": "stdout",
     "output_type": "stream",
     "text": [
      "\u001b[31mERROR: Could not find a version that satisfies the requirement Crypto.Cipher (from versions: none)\u001b[0m\n",
      "\u001b[31mERROR: No matching distribution found for Crypto.Cipher\u001b[0m\n",
      "Note: you may need to restart the kernel to use updated packages.\n"
     ]
    }
   ],
   "source": [
    "pip install Crypto.Cipher"
   ]
  },
  {
   "cell_type": "code",
   "execution_count": 82,
   "metadata": {},
   "outputs": [],
   "source": [
    "from Crypto.Cipher import AES\n",
    "#base64 is used for encoding. dont confuse encoding with encryption#\n",
    "#encryption is used for disguising data\n",
    "#encoding is used for putting data in a specific format\n",
    "import base64\n",
    "# os is for urandom, which is an accepted producer of randomness that\n",
    "# is suitable for cryptology.\n",
    "import os\n",
    "def encryption(privateInfo):\n",
    "    \n",
    "    #32 bytes = 256 bits\n",
    "    #16 = 128 bits\n",
    "    # the block size for cipher obj, can be 16 24 or 32. 16 matches 128 bit.\n",
    "    BLOCK_SIZE = 16\n",
    "    \n",
    "    # the character used for padding\n",
    "    # used to ensure that your value is always a multiple of BLOCK_SIZE\n",
    "    PADDING = '{'\n",
    "    \n",
    "    # function to pad the functions. Lambda\n",
    "    # is used for abstraction of functions.\n",
    "    # basically, its a function, and you define it, followed by the param\n",
    "    # followed by a colon,\n",
    "    # ex = lambda x: x+5\n",
    "    pad = lambda s: s + (BLOCK_SIZE - len(s) % BLOCK_SIZE) * PADDING\n",
    "    \n",
    "    # encrypt with AES, encode with base64\n",
    "    EncodeAES = lambda c, s: base64.b64encode(c.encrypt(pad(s)))\n",
    "    \n",
    "    # generate a randomized secret key with urandom\n",
    "    secret = os.urandom(BLOCK_SIZE)\n",
    "    print ('encryption key:',secret)\n",
    "    \n",
    "    # creates the cipher obj using the key\n",
    "    cipher = AES.new(secret)\n",
    "    \n",
    "    # encodes you private info!\n",
    "    encoded = EncodeAES(cipher, privateInfo)\n",
    "    \n",
    "    #print(encoded)\n",
    "    print('Encrypted string:',encoded)\n"
   ]
  },
  {
   "cell_type": "code",
   "execution_count": 83,
   "metadata": {},
   "outputs": [
    {
     "name": "stdout",
     "output_type": "stream",
     "text": [
      "encryption key: b'B?\\x95\\x1c4gk\\xa8\\xe9X(\\xa67\\x07\\xf9\\xeb'\n",
      "Encrypted string: b'4Wi25eeCPl1+/P/YqF1C602bUQ4dKsrOO7cmqaK5zq4zSnmlwwjlUcvsZ8Jmohnp'\n"
     ]
    }
   ],
   "source": [
    "encryption('hello my namne is perman, and im adding this')"
   ]
  },
  {
   "cell_type": "code",
   "execution_count": 86,
   "metadata": {},
   "outputs": [],
   "source": [
    "from Crypto.Cipher import AES\n",
    "import base64\n",
    "import os\n",
    "def decryption(encryptedString):\n",
    "    PADDING = '{'\n",
    "    DecodeAES = lambda c, e: c.decrypt(base64.b64decode(e)).rstrip(PADDING)\n",
    "    #Key is FROM the printout of 'secret' in encryption\n",
    "    #below is the encryption.\n",
    "    encryption = encryptedString\n",
    "    key = \"\\xf9\\xc8mYHh\\xd6\\xbd.\\xf3m\\xb3\\xb8E\\xc8\\x01\"\n",
    "    cipher = AES.new(key)\n",
    "    decoded = DecodeAES(cipher, encryptedString)\n",
    "    print (decoded)"
   ]
  },
  {
   "cell_type": "code",
   "execution_count": 88,
   "metadata": {},
   "outputs": [
    {
     "ename": "ValueError",
     "evalue": "AES key must be either 16, 24, or 32 bytes long",
     "output_type": "error",
     "traceback": [
      "\u001b[0;31m---------------------------------------------------------------------------\u001b[0m",
      "\u001b[0;31mValueError\u001b[0m                                Traceback (most recent call last)",
      "\u001b[0;32m<ipython-input-88-69c56367106e>\u001b[0m in \u001b[0;36m<module>\u001b[0;34m\u001b[0m\n\u001b[0;32m----> 1\u001b[0;31m \u001b[0mdecryption\u001b[0m\u001b[0;34m(\u001b[0m\u001b[0;34m\"b'aRyoN+u8qd3odVORX0otaG8/UgfLNlWwzRr9Q0UR6fJuoo6LfR7F4OlPZXRb+Pd0'\"\u001b[0m\u001b[0;34m)\u001b[0m\u001b[0;34m\u001b[0m\u001b[0;34m\u001b[0m\u001b[0m\n\u001b[0m",
      "\u001b[0;32m<ipython-input-86-d720000f4a44>\u001b[0m in \u001b[0;36mdecryption\u001b[0;34m(encryptedString)\u001b[0m\n\u001b[1;32m      9\u001b[0m     \u001b[0mencryption\u001b[0m \u001b[0;34m=\u001b[0m \u001b[0mencryptedString\u001b[0m\u001b[0;34m\u001b[0m\u001b[0;34m\u001b[0m\u001b[0m\n\u001b[1;32m     10\u001b[0m     \u001b[0mkey\u001b[0m \u001b[0;34m=\u001b[0m \u001b[0;34m\"B?\\x95\\x1c4gk\\xa8\\xe9X(\\xa67\\x07\\xf9\\xeb\"\u001b[0m\u001b[0;34m\u001b[0m\u001b[0;34m\u001b[0m\u001b[0m\n\u001b[0;32m---> 11\u001b[0;31m     \u001b[0mcipher\u001b[0m \u001b[0;34m=\u001b[0m \u001b[0mAES\u001b[0m\u001b[0;34m.\u001b[0m\u001b[0mnew\u001b[0m\u001b[0;34m(\u001b[0m\u001b[0mkey\u001b[0m\u001b[0;34m)\u001b[0m\u001b[0;34m\u001b[0m\u001b[0;34m\u001b[0m\u001b[0m\n\u001b[0m\u001b[1;32m     12\u001b[0m     \u001b[0mdecoded\u001b[0m \u001b[0;34m=\u001b[0m \u001b[0mDecodeAES\u001b[0m\u001b[0;34m(\u001b[0m\u001b[0mcipher\u001b[0m\u001b[0;34m,\u001b[0m \u001b[0mencryptedString\u001b[0m\u001b[0;34m)\u001b[0m\u001b[0;34m\u001b[0m\u001b[0;34m\u001b[0m\u001b[0m\n\u001b[1;32m     13\u001b[0m     \u001b[0mprint\u001b[0m \u001b[0;34m(\u001b[0m\u001b[0mdecoded\u001b[0m\u001b[0;34m)\u001b[0m\u001b[0;34m\u001b[0m\u001b[0;34m\u001b[0m\u001b[0m\n",
      "\u001b[0;32m~/anaconda3/envs/Data_Science/lib/python3.9/site-packages/Crypto/Cipher/AES.py\u001b[0m in \u001b[0;36mnew\u001b[0;34m(key, *args, **kwargs)\u001b[0m\n\u001b[1;32m     93\u001b[0m     \u001b[0;34m:\u001b[0m\u001b[0mReturn\u001b[0m\u001b[0;34m:\u001b[0m \u001b[0man\u001b[0m\u001b[0;31m \u001b[0m\u001b[0;31m`\u001b[0m\u001b[0mAESCipher\u001b[0m\u001b[0;31m`\u001b[0m \u001b[0mobject\u001b[0m\u001b[0;34m\u001b[0m\u001b[0;34m\u001b[0m\u001b[0m\n\u001b[1;32m     94\u001b[0m     \"\"\"\n\u001b[0;32m---> 95\u001b[0;31m     \u001b[0;32mreturn\u001b[0m \u001b[0mAESCipher\u001b[0m\u001b[0;34m(\u001b[0m\u001b[0mkey\u001b[0m\u001b[0;34m,\u001b[0m \u001b[0;34m*\u001b[0m\u001b[0margs\u001b[0m\u001b[0;34m,\u001b[0m \u001b[0;34m**\u001b[0m\u001b[0mkwargs\u001b[0m\u001b[0;34m)\u001b[0m\u001b[0;34m\u001b[0m\u001b[0;34m\u001b[0m\u001b[0m\n\u001b[0m\u001b[1;32m     96\u001b[0m \u001b[0;34m\u001b[0m\u001b[0m\n\u001b[1;32m     97\u001b[0m \u001b[0;31m#: Electronic Code Book (ECB). See `blockalgo.MODE_ECB`.\u001b[0m\u001b[0;34m\u001b[0m\u001b[0;34m\u001b[0m\u001b[0;34m\u001b[0m\u001b[0m\n",
      "\u001b[0;32m~/anaconda3/envs/Data_Science/lib/python3.9/site-packages/Crypto/Cipher/AES.py\u001b[0m in \u001b[0;36m__init__\u001b[0;34m(self, key, *args, **kwargs)\u001b[0m\n\u001b[1;32m     57\u001b[0m \u001b[0;34m\u001b[0m\u001b[0m\n\u001b[1;32m     58\u001b[0m         See also `new()` at the module level.\"\"\"\n\u001b[0;32m---> 59\u001b[0;31m         \u001b[0mblockalgo\u001b[0m\u001b[0;34m.\u001b[0m\u001b[0mBlockAlgo\u001b[0m\u001b[0;34m.\u001b[0m\u001b[0m__init__\u001b[0m\u001b[0;34m(\u001b[0m\u001b[0mself\u001b[0m\u001b[0;34m,\u001b[0m \u001b[0m_AES\u001b[0m\u001b[0;34m,\u001b[0m \u001b[0mkey\u001b[0m\u001b[0;34m,\u001b[0m \u001b[0;34m*\u001b[0m\u001b[0margs\u001b[0m\u001b[0;34m,\u001b[0m \u001b[0;34m**\u001b[0m\u001b[0mkwargs\u001b[0m\u001b[0;34m)\u001b[0m\u001b[0;34m\u001b[0m\u001b[0;34m\u001b[0m\u001b[0m\n\u001b[0m\u001b[1;32m     60\u001b[0m \u001b[0;34m\u001b[0m\u001b[0m\n\u001b[1;32m     61\u001b[0m \u001b[0;32mdef\u001b[0m \u001b[0mnew\u001b[0m\u001b[0;34m(\u001b[0m\u001b[0mkey\u001b[0m\u001b[0;34m,\u001b[0m \u001b[0;34m*\u001b[0m\u001b[0margs\u001b[0m\u001b[0;34m,\u001b[0m \u001b[0;34m**\u001b[0m\u001b[0mkwargs\u001b[0m\u001b[0;34m)\u001b[0m\u001b[0;34m:\u001b[0m\u001b[0;34m\u001b[0m\u001b[0;34m\u001b[0m\u001b[0m\n",
      "\u001b[0;32m~/anaconda3/envs/Data_Science/lib/python3.9/site-packages/Crypto/Cipher/blockalgo.py\u001b[0m in \u001b[0;36m__init__\u001b[0;34m(self, factory, key, *args, **kwargs)\u001b[0m\n\u001b[1;32m    139\u001b[0m \u001b[0;34m\u001b[0m\u001b[0m\n\u001b[1;32m    140\u001b[0m         \u001b[0;32mif\u001b[0m \u001b[0mself\u001b[0m\u001b[0;34m.\u001b[0m\u001b[0mmode\u001b[0m \u001b[0;34m!=\u001b[0m \u001b[0mMODE_OPENPGP\u001b[0m\u001b[0;34m:\u001b[0m\u001b[0;34m\u001b[0m\u001b[0;34m\u001b[0m\u001b[0m\n\u001b[0;32m--> 141\u001b[0;31m             \u001b[0mself\u001b[0m\u001b[0;34m.\u001b[0m\u001b[0m_cipher\u001b[0m \u001b[0;34m=\u001b[0m \u001b[0mfactory\u001b[0m\u001b[0;34m.\u001b[0m\u001b[0mnew\u001b[0m\u001b[0;34m(\u001b[0m\u001b[0mkey\u001b[0m\u001b[0;34m,\u001b[0m \u001b[0;34m*\u001b[0m\u001b[0margs\u001b[0m\u001b[0;34m,\u001b[0m \u001b[0;34m**\u001b[0m\u001b[0mkwargs\u001b[0m\u001b[0;34m)\u001b[0m\u001b[0;34m\u001b[0m\u001b[0;34m\u001b[0m\u001b[0m\n\u001b[0m\u001b[1;32m    142\u001b[0m             \u001b[0mself\u001b[0m\u001b[0;34m.\u001b[0m\u001b[0mIV\u001b[0m \u001b[0;34m=\u001b[0m \u001b[0mself\u001b[0m\u001b[0;34m.\u001b[0m\u001b[0m_cipher\u001b[0m\u001b[0;34m.\u001b[0m\u001b[0mIV\u001b[0m\u001b[0;34m\u001b[0m\u001b[0;34m\u001b[0m\u001b[0m\n\u001b[1;32m    143\u001b[0m         \u001b[0;32melse\u001b[0m\u001b[0;34m:\u001b[0m\u001b[0;34m\u001b[0m\u001b[0;34m\u001b[0m\u001b[0m\n",
      "\u001b[0;31mValueError\u001b[0m: AES key must be either 16, 24, or 32 bytes long"
     ]
    }
   ],
   "source": [
    "decryption(\"b'aRyoN+u8qd3odVORX0otaG8/UgfLNlWwzRr9Q0UR6fJuoo6LfR7F4OlPZXRb+Pd0'\")"
   ]
  },
  {
   "cell_type": "code",
   "execution_count": 59,
   "metadata": {},
   "outputs": [
    {
     "name": "stdout",
     "output_type": "stream",
     "text": [
      "hello hsdfiusducfhgbuised\n"
     ]
    }
   ],
   "source": [
    "a = \"hsdfiusducfhgbuised\"\n",
    "print('hello',a)"
   ]
  },
  {
   "cell_type": "code",
   "execution_count": null,
   "metadata": {},
   "outputs": [],
   "source": [
    "b'\\xf9\\xc8mYHh\\xd6\\xbd.\\xf3m\\xb3\\xb8E\\xc8\\x01'"
   ]
  },
  {
   "cell_type": "code",
   "execution_count": 22,
   "metadata": {},
   "outputs": [
    {
     "ename": "TypeError",
     "evalue": "a bytes-like object is required, not 'str'",
     "output_type": "error",
     "traceback": [
      "\u001b[0;31m---------------------------------------------------------------------------\u001b[0m",
      "\u001b[0;31mTypeError\u001b[0m                                 Traceback (most recent call last)",
      "\u001b[0;32m<ipython-input-22-3bb6854f42d7>\u001b[0m in \u001b[0;36m<module>\u001b[0;34m\u001b[0m\n\u001b[0;32m----> 1\u001b[0;31m \u001b[0mdecryption\u001b[0m\u001b[0;34m(\u001b[0m\u001b[0;34mb'GsxT4FSM5dfwsRP+0rmowSSz9VLNq10fUMikSVJSCME='\u001b[0m\u001b[0;34m)\u001b[0m\u001b[0;34m\u001b[0m\u001b[0;34m\u001b[0m\u001b[0m\n\u001b[0m",
      "\u001b[0;32m<ipython-input-21-e5f01eb41893>\u001b[0m in \u001b[0;36mdecryption\u001b[0;34m(encryptedString)\u001b[0m\n\u001b[1;32m     10\u001b[0m     \u001b[0mkey\u001b[0m \u001b[0;34m=\u001b[0m \u001b[0;34mb'3\\xf3`2\"%\\xcd\\xa4\\xe2\\t\\xa1<\\x06\\x93\\xee\\xf6'\u001b[0m\u001b[0;34m\u001b[0m\u001b[0;34m\u001b[0m\u001b[0m\n\u001b[1;32m     11\u001b[0m     \u001b[0mcipher\u001b[0m \u001b[0;34m=\u001b[0m \u001b[0mAES\u001b[0m\u001b[0;34m.\u001b[0m\u001b[0mnew\u001b[0m\u001b[0;34m(\u001b[0m\u001b[0mkey\u001b[0m\u001b[0;34m)\u001b[0m\u001b[0;34m\u001b[0m\u001b[0;34m\u001b[0m\u001b[0m\n\u001b[0;32m---> 12\u001b[0;31m     \u001b[0mdecoded\u001b[0m \u001b[0;34m=\u001b[0m \u001b[0mDecodeAES\u001b[0m\u001b[0;34m(\u001b[0m\u001b[0mcipher\u001b[0m\u001b[0;34m,\u001b[0m \u001b[0mencryption\u001b[0m\u001b[0;34m)\u001b[0m\u001b[0;34m\u001b[0m\u001b[0;34m\u001b[0m\u001b[0m\n\u001b[0m\u001b[1;32m     13\u001b[0m     \u001b[0mprint\u001b[0m \u001b[0;34m(\u001b[0m\u001b[0mdecoded\u001b[0m\u001b[0;34m)\u001b[0m\u001b[0;34m\u001b[0m\u001b[0;34m\u001b[0m\u001b[0m\n",
      "\u001b[0;32m<ipython-input-21-e5f01eb41893>\u001b[0m in \u001b[0;36m<lambda>\u001b[0;34m(c, e)\u001b[0m\n\u001b[1;32m      4\u001b[0m \u001b[0;32mdef\u001b[0m \u001b[0mdecryption\u001b[0m\u001b[0;34m(\u001b[0m\u001b[0mencryptedString\u001b[0m\u001b[0;34m)\u001b[0m\u001b[0;34m:\u001b[0m\u001b[0;34m\u001b[0m\u001b[0;34m\u001b[0m\u001b[0m\n\u001b[1;32m      5\u001b[0m     \u001b[0mPADDING\u001b[0m \u001b[0;34m=\u001b[0m \u001b[0;34m'{'\u001b[0m\u001b[0;34m\u001b[0m\u001b[0;34m\u001b[0m\u001b[0m\n\u001b[0;32m----> 6\u001b[0;31m     \u001b[0mDecodeAES\u001b[0m \u001b[0;34m=\u001b[0m \u001b[0;32mlambda\u001b[0m \u001b[0mc\u001b[0m\u001b[0;34m,\u001b[0m \u001b[0me\u001b[0m\u001b[0;34m:\u001b[0m \u001b[0mc\u001b[0m\u001b[0;34m.\u001b[0m\u001b[0mdecrypt\u001b[0m\u001b[0;34m(\u001b[0m\u001b[0mbase64\u001b[0m\u001b[0;34m.\u001b[0m\u001b[0mb64decode\u001b[0m\u001b[0;34m(\u001b[0m\u001b[0me\u001b[0m\u001b[0;34m)\u001b[0m\u001b[0;34m)\u001b[0m\u001b[0;34m.\u001b[0m\u001b[0mrstrip\u001b[0m\u001b[0;34m(\u001b[0m\u001b[0mPADDING\u001b[0m\u001b[0;34m)\u001b[0m\u001b[0;34m\u001b[0m\u001b[0;34m\u001b[0m\u001b[0m\n\u001b[0m\u001b[1;32m      7\u001b[0m     \u001b[0;31m#Key is FROM the printout of 'secret' in encryption\u001b[0m\u001b[0;34m\u001b[0m\u001b[0;34m\u001b[0m\u001b[0;34m\u001b[0m\u001b[0m\n\u001b[1;32m      8\u001b[0m     \u001b[0;31m#below is the encryption.\u001b[0m\u001b[0;34m\u001b[0m\u001b[0;34m\u001b[0m\u001b[0;34m\u001b[0m\u001b[0m\n",
      "\u001b[0;31mTypeError\u001b[0m: a bytes-like object is required, not 'str'"
     ]
    }
   ],
   "source": [
    "b'aRyoN+u8qd3odVORX0otaG8/UgfLNlWwzRr9Q0UR6fJuoo6LfR7F4OlPZXRb+Pd0'"
   ]
  },
  {
   "cell_type": "code",
   "execution_count": null,
   "metadata": {},
   "outputs": [],
   "source": []
  }
 ],
 "metadata": {
  "kernelspec": {
   "display_name": "Data_Science",
   "language": "python",
   "name": "data_science"
  },
  "language_info": {
   "codemirror_mode": {
    "name": "ipython",
    "version": 3
   },
   "file_extension": ".py",
   "mimetype": "text/x-python",
   "name": "python",
   "nbconvert_exporter": "python",
   "pygments_lexer": "ipython3",
   "version": "3.9.5"
  }
 },
 "nbformat": 4,
 "nbformat_minor": 4
}
