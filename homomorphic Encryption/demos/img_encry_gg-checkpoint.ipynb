{
 "cells": [
  {
   "cell_type": "markdown",
   "metadata": {},
   "source": []
  },
  {
   "cell_type": "markdown",
   "metadata": {},
   "source": [
    "## Encrypt and Decrypt Image using Python"
   ]
  },
  {
   "cell_type": "code",
   "execution_count": null,
   "metadata": {},
   "outputs": [],
   "source": []
  },
  {
   "cell_type": "code",
   "execution_count": 1,
   "metadata": {},
   "outputs": [
    {
     "name": "stdout",
     "output_type": "stream",
     "text": [
      "Original Data: 1281\n",
      "Key: 27\n",
      "After Encryption: 1306\n",
      "After Decryption: 1281\n"
     ]
    }
   ],
   "source": [
    "# Assign values\n",
    "data = 1281\n",
    "key = 27\n",
    "\n",
    "# Display values\n",
    "print('Original Data:', data)\n",
    "print('Key:', key)\n",
    "\n",
    "# Encryption\n",
    "data = data ^ key\n",
    "print('After Encryption:', data)\n",
    "\n",
    "# Decryption\n",
    "data = data ^ key\n",
    "print('After Decryption:', data)\n"
   ]
  },
  {
   "cell_type": "markdown",
   "metadata": {},
   "source": [
    "### Executable code for Encryption"
   ]
  },
  {
   "cell_type": "code",
   "execution_count": 24,
   "metadata": {
    "scrolled": true
   },
   "outputs": [
    {
     "name": "stdout",
     "output_type": "stream",
     "text": [
      "Enter path of Image : ./img_demo00.jpeg\n",
      "Enter Key for encryption of Image : 22\n",
      "The path of file :  ./img_demo00.jpeg\n",
      "Key for encryption :  22\n",
      "Encryption Done...\n"
     ]
    }
   ],
   "source": [
    "# try block to handle exception\n",
    "try:\n",
    "    # take path of image as a input\n",
    "    path = input(r'Enter path of Image : ')\n",
    "    \n",
    "    # taking encryption key as input\n",
    "    key = int(input('Enter Key for encryption of Image : '))\n",
    "    \n",
    "    # print path of image file and encryption key that\n",
    "    # we are using\n",
    "    print('The path of file : ', path)\n",
    "    print('Key for encryption : ', key)\n",
    "    \n",
    "    # open file for reading purpose\n",
    "    fin = open(path, 'rb')\n",
    "    \n",
    "    # storing image data in variable \"image\"\n",
    "    image = fin.read()\n",
    "    fin.close()\n",
    "    \n",
    "    # converting image into byte array to\n",
    "    # perform encryption easily on numeric data\n",
    "    image = bytearray(image)\n",
    "\n",
    "    # performing XOR operation on each value of bytearray\n",
    "    for index, values in enumerate(image):\n",
    "        image[index] = values ^ key\n",
    "\n",
    "    # opening file for writing purpose\n",
    "    fin = open(path, 'wb')\n",
    "    \n",
    "    # writing encrypted data in image\n",
    "    fin.write(image)\n",
    "    fin.close()\n",
    "    print('Encryption Done...')\n",
    "\n",
    "    \n",
    "except Exception:\n",
    "    print('Error caught : ', Exception.__name__)"
   ]
  },
  {
   "cell_type": "code",
   "execution_count": 26,
   "metadata": {},
   "outputs": [],
   "source": [
    "# ./img_demo00.jpeg"
   ]
  },
  {
   "cell_type": "markdown",
   "metadata": {},
   "source": [
    "### Executable Code for Decryption"
   ]
  },
  {
   "cell_type": "code",
   "execution_count": 25,
   "metadata": {},
   "outputs": [
    {
     "name": "stdout",
     "output_type": "stream",
     "text": [
      "Enter path of Image : ./img_demo00.jpeg\n",
      "Enter Key for encryption of Image : 22\n",
      "The path of file :  ./img_demo00.jpeg\n",
      "Note : Encryption key and Decryption key must be same.\n",
      "Key for Decryption :  22\n",
      "Decryption Done...\n"
     ]
    }
   ],
   "source": [
    "# try block to handle the exception\n",
    "try:\n",
    "    # take path of image as a input\n",
    "    path = input(r'Enter path of Image : ')\n",
    "    \n",
    "    # taking decryption key as input\n",
    "    key = int(input('Enter Key for encryption of Image : '))\n",
    "    \n",
    "    # print path of image file and decryption key that we are using\n",
    "    print('The path of file : ', path)\n",
    "    print('Note : Encryption key and Decryption key must be same.')\n",
    "    print('Key for Decryption : ', key)\n",
    "    \n",
    "    # open file for reading purpose\n",
    "    fin = open(path, 'rb')\n",
    "    \n",
    "    # storing image data in variable \"image\"\n",
    "    image = fin.read()\n",
    "    fin.close()\n",
    "    \n",
    "    # converting image into byte array to perform decryption easily on numeric data\n",
    "    image = bytearray(image)\n",
    "\n",
    "    # performing XOR operation on each value of bytearray\n",
    "    for index, values in enumerate(image):\n",
    "        image[index] = values ^ key\n",
    "\n",
    "    # opening file for writing purpose\n",
    "    fin = open(path, 'wb')\n",
    "    \n",
    "    # writing decryption data in image\n",
    "    fin.write(image)\n",
    "    fin.close()\n",
    "    print('Decryption Done...')\n",
    "\n",
    "\n",
    "except Exception:\n",
    "    print('Error caught : ', Exception.__name__)\n"
   ]
  },
  {
   "cell_type": "code",
   "execution_count": null,
   "metadata": {},
   "outputs": [],
   "source": []
  }
 ],
 "metadata": {
  "kernelspec": {
   "display_name": "Python [conda env:Data_Science]",
   "language": "python",
   "name": "conda-env-Data_Science-py"
  },
  "language_info": {
   "codemirror_mode": {
    "name": "ipython",
    "version": 3
   },
   "file_extension": ".py",
   "mimetype": "text/x-python",
   "name": "python",
   "nbconvert_exporter": "python",
   "pygments_lexer": "ipython3",
   "version": "3.9.5"
  }
 },
 "nbformat": 4,
 "nbformat_minor": 4
}
