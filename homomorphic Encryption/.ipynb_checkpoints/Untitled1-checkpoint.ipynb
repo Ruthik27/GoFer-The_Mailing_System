{
 "cells": [
  {
   "cell_type": "markdown",
   "metadata": {},
   "source": []
  },
  {
   "cell_type": "markdown",
   "metadata": {},
   "source": [
    "## Encrypt and Decrypt a string in python"
   ]
  },
  {
   "cell_type": "markdown",
   "metadata": {},
   "source": [
    "###  encrypting a message"
   ]
  },
  {
   "cell_type": "code",
   "execution_count": 22,
   "metadata": {},
   "outputs": [
    {
     "name": "stdout",
     "output_type": "stream",
     "text": [
      "b'gAAAAABhMxhFHMsJqdp7XBiO1DdbWB5RXQ6Wc56qR_pwAfORmRS1GQTaQRO4Q3-YJyUrWrkvkqqyLbz1YO0pNcQ9XSkZHVWCrf6Y21jcZ0K6n0wdGjSXiyk='\n"
     ]
    }
   ],
   "source": [
    "from cryptography.fernet import Fernet\n",
    "\n",
    "def generate_key():\n",
    "    \"\"\"\n",
    "    Generates a key and save it into a file\n",
    "    \"\"\"\n",
    "    key = Fernet.generate_key()\n",
    "    with open(\"secret.key\", \"wb\") as key_file:\n",
    "        key_file.write(key)\n",
    "\n",
    "def load_key():\n",
    "    \"\"\"\n",
    "    Load the previously generated key\n",
    "    \"\"\"\n",
    "    return open(\"secret.key\", \"rb\").read()\n",
    "\n",
    "def encrypt_message(message):\n",
    "    \"\"\"\n",
    "    Encrypts a message\n",
    "    \"\"\"\n",
    "    key = load_key()\n",
    "    encoded_message = message.encode()\n",
    "    f = Fernet(key)\n",
    "    encrypted_message = f.encrypt(encoded_message)\n",
    "\n",
    "    print(encrypted_message)\n",
    "\n",
    "if __name__ == \"__main__\":\n",
    "    # generate_key() # execute only once \n",
    "    encrypt_message(\"Hello stackoverflow!\")"
   ]
  },
  {
   "cell_type": "markdown",
   "metadata": {},
   "source": [
    "### Decrypt Data"
   ]
  },
  {
   "cell_type": "code",
   "execution_count": 25,
   "metadata": {},
   "outputs": [
    {
     "name": "stdout",
     "output_type": "stream",
     "text": [
      "Hello stackoverflow!\n"
     ]
    }
   ],
   "source": [
    "from cryptography.fernet import Fernet\n",
    "\n",
    "def load_key():\n",
    "    \"\"\"\n",
    "    Load the previously generated key\n",
    "    \"\"\"\n",
    "    return open(\"secret.key\", \"rb\").read()\n",
    "\n",
    "def decrypt_message(encrypted_message):\n",
    "    \"\"\"\n",
    "    Decrypts an encrypted message\n",
    "    \"\"\"\n",
    "    key = load_key()\n",
    "    f = Fernet(key)\n",
    "    decrypted_message = f.decrypt(encrypted_message)\n",
    "\n",
    "    print(decrypted_message.decode())\n",
    "\n",
    "if __name__ == \"__main__\":\n",
    "    decrypt_message(b'gAAAAABhMxhFHMsJqdp7XBiO1DdbWB5RXQ6Wc56qR_pwAfORmRS1GQTaQRO4Q3-YJyUrWrkvkqqyLbz1YO0pNcQ9XSkZHVWCrf6Y21jcZ0K6n0wdGjSXiyk=')\n"
   ]
  },
  {
   "cell_type": "code",
   "execution_count": null,
   "metadata": {},
   "outputs": [],
   "source": []
  }
 ],
 "metadata": {
  "kernelspec": {
   "display_name": "Python [conda env:Data_Science]",
   "language": "python",
   "name": "conda-env-Data_Science-py"
  },
  "language_info": {
   "codemirror_mode": {
    "name": "ipython",
    "version": 3
   },
   "file_extension": ".py",
   "mimetype": "text/x-python",
   "name": "python",
   "nbconvert_exporter": "python",
   "pygments_lexer": "ipython3",
   "version": "3.9.5"
  }
 },
 "nbformat": 4,
 "nbformat_minor": 4
}
